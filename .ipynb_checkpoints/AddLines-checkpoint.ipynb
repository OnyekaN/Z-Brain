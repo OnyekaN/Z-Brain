{
 "cells": [
  {
   "cell_type": "code",
   "execution_count": 2,
   "metadata": {
    "collapsed": false
   },
   "outputs": [
    {
     "name": "stderr",
     "output_type": "stream",
     "text": [
      "/Users/OGN/anaconda/lib/python2.7/site-packages/skimage/viewer/utils/core.py:10: UserWarning: Recommended matplotlib backend is `Agg` for full skimage.viewer functionality.\n",
      "  warn(\"Recommended matplotlib backend is `Agg` for full \"\n"
     ]
    }
   ],
   "source": [
    "import h5py\n",
    "import numpy as np\n",
    "from PIL import Image\n",
    "from skimage import io\n",
    "from skimage.viewer import ImageViewer"
   ]
  },
  {
   "cell_type": "code",
   "execution_count": 3,
   "metadata": {
    "collapsed": false
   },
   "outputs": [
    {
     "data": {
      "text/plain": [
       "[u'ZBB_HuC-Cer',\n",
       " u'ZBB_ath5-GFP',\n",
       " u'ZBB_bActin-GFP',\n",
       " u'ZBB_chx10-gal4',\n",
       " u'ZBB_dat-GFP',\n",
       " u'ZBB_dbh-Gal4',\n",
       " u'ZBB_eng1b-Gal4',\n",
       " u'ZBB_evx2-Gal4',\n",
       " u'ZBB_flk-GFP',\n",
       " u'ZBB_gad1b-GFP',\n",
       " u'ZBB_gfap-GFP',\n",
       " u'ZBB_glyt2-GFP',\n",
       " u'ZBB_gsx1-GFP',\n",
       " u'ZBB_isl2b-GFP',\n",
       " u'ZBB_j1229-GFP',\n",
       " u'ZBB_pet1-GFP',\n",
       " u'ZBB_phox2b-GFP',\n",
       " u'ZBB_shox2-Gal4',\n",
       " u'ZBB_tph2-Gal4',\n",
       " u'ZBB_vglut-DsRed',\n",
       " u'ZBB_y234-Gal4',\n",
       " u'ZBB_y236-Gal4',\n",
       " u'ZBB_y237-Gal4',\n",
       " u'ZBB_y240-Gal4',\n",
       " u'ZBB_y241-Gal4',\n",
       " u'ZBB_y244-Gal4',\n",
       " u'ZBB_y245-Gal4',\n",
       " u'ZBB_y249-Gal4',\n",
       " u'ZBB_y252-Gal4',\n",
       " u'ZBB_y255-Gal4',\n",
       " u'ZBB_y256-Gal4',\n",
       " u'ZBB_y264-Gal4',\n",
       " u'ZBB_y269-Gal4',\n",
       " u'ZBB_y270-Gal4',\n",
       " u'ZBB_y275-Gal4',\n",
       " u'ZBB_y279-Gal4',\n",
       " u'ZBB_y293-Gal4',\n",
       " u'ZBB_y294-Gal4',\n",
       " u'ZBB_y295-Gal4',\n",
       " u'ZBB_y296-Gal4',\n",
       " u'ZBB_y297-Gal4',\n",
       " u'ZBB_y298-Gal4',\n",
       " u'ZBB_y299-Gal4',\n",
       " u'ZBB_y300-Gal4',\n",
       " u'ZBB_y301-Gal4',\n",
       " u'ZBB_y302-Gal4',\n",
       " u'ZBB_y303-Gal4',\n",
       " u'ZBB_y304-Gal4',\n",
       " u'ZBB_y305-Gal4',\n",
       " u'ZBB_y306-Gal4',\n",
       " u'ZBB_y307-Gal4',\n",
       " u'ZBB_y308-Gal4',\n",
       " u'ZBB_y309-Gal4',\n",
       " u'ZBB_y310-Gal4',\n",
       " u'ZBB_y311-Gal4',\n",
       " u'ZBB_y312-Gal4',\n",
       " u'ZBB_y313-Gal4',\n",
       " u'ZBB_y314-Gal4',\n",
       " u'ZBB_y315-Gal4',\n",
       " u'ZBB_y316-Gal4',\n",
       " u'ZBB_y317-Gal4',\n",
       " u'ZBB_y318-Gal4',\n",
       " u'ZBB_y319-Gal4',\n",
       " u'ZBB_y320-Gal4',\n",
       " u'ZBB_y321-Gal4',\n",
       " u'ZBB_y322-Gal4',\n",
       " u'ZBB_y323-Gal4',\n",
       " u'ZBB_y324-Gal4',\n",
       " u'ZBB_y325-Gal4',\n",
       " u'ZBB_y326-Gal4',\n",
       " u'ZBB_y327-Gal4',\n",
       " u'ZBB_y328-Gal4',\n",
       " u'ZBB_y329-Gal4',\n",
       " u'ZBB_y330-Gal4',\n",
       " u'ZBB_y331-Gal4',\n",
       " u'ZBB_y332-Gal4',\n",
       " u'ZBB_y333-Gal4',\n",
       " u'ZBB_y334-Gal4',\n",
       " u'ZBB_y336-Gal4',\n",
       " u'ZBB_y337-Gal4',\n",
       " u'ZBB_y338-Gal4',\n",
       " u'ZBB_y339-Gal4',\n",
       " u'ZBB_y341-Gal4',\n",
       " u'ZBB_y342-Gal4',\n",
       " u'ZBB_y345-Gal4',\n",
       " u'ZBB_y347-Gal4',\n",
       " u'ZBB_y351-Gal4',\n",
       " u'ZBB_y352-Gal4',\n",
       " u'ZBB_y353-Gal4',\n",
       " u'ZBB_y354-Gal4',\n",
       " u'ZBB_y355-Gal4',\n",
       " u'ZBB_y356-Gal4',\n",
       " u'ZBB_y357-Gal4',\n",
       " u'ZBB_y358-Gal4',\n",
       " u'ZBB_y359-Gal4',\n",
       " u'ZBB_y364-Gal4',\n",
       " u'ZBB_y365-Gal4',\n",
       " u'ZBB_y371-Cre',\n",
       " u'ZBB_y372-Gal4',\n",
       " u'ZBB_y373-Gal4',\n",
       " u'ZBB_y375-Gal4',\n",
       " u'ZBB_y378-Cre',\n",
       " u'ZBB_y379-Cre',\n",
       " u'ZBB_y380-Cre',\n",
       " u'ZBB_y381-Cre',\n",
       " u'ZBB_y382-Cre',\n",
       " u'ZBB_y383-Cre',\n",
       " u'ZBB_y384-Cre',\n",
       " u'ZBB_y385-Cre']"
      ]
     },
     "execution_count": 3,
     "metadata": {},
     "output_type": "execute_result"
    }
   ],
   "source": [
    "f = h5py.File('ZBBDatabase.hdf5', 'r')\n",
    "f.keys()"
   ]
  },
  {
   "cell_type": "code",
   "execution_count": 4,
   "metadata": {
    "collapsed": false
   },
   "outputs": [],
   "source": [
    "data = f.get('ZBB_HuC-Cer')[:]\n"
   ]
  },
  {
   "cell_type": "code",
   "execution_count": 7,
   "metadata": {
    "collapsed": false
   },
   "outputs": [
    {
     "data": {
      "text/plain": [
       "[]"
      ]
     },
     "execution_count": 7,
     "metadata": {},
     "output_type": "execute_result"
    }
   ],
   "source": [
    "'''\n",
    "viewer = ImageViewer(data[30])\n",
    "viewer.show()\n",
    "'''"
   ]
  },
  {
   "cell_type": "code",
   "execution_count": 41,
   "metadata": {
    "collapsed": true
   },
   "outputs": [],
   "source": [
    "io.imsave('test_16bit_tiff.tiff', data)"
   ]
  },
  {
   "cell_type": "code",
   "execution_count": null,
   "metadata": {
    "collapsed": true
   },
   "outputs": [],
   "source": []
  }
 ],
 "metadata": {
  "anaconda-cloud": {},
  "kernelspec": {
   "display_name": "Python [Root]",
   "language": "python",
   "name": "Python [Root]"
  },
  "language_info": {
   "codemirror_mode": {
    "name": "ipython",
    "version": 2
   },
   "file_extension": ".py",
   "mimetype": "text/x-python",
   "name": "python",
   "nbconvert_exporter": "python",
   "pygments_lexer": "ipython2",
   "version": "2.7.12"
  }
 },
 "nbformat": 4,
 "nbformat_minor": 0
}
